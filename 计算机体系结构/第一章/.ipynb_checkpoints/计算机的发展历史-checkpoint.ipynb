{
 "cells": [
  {
   "cell_type": "markdown",
   "metadata": {},
   "source": [
    "# 计算机的发展历史\n",
    "1. 第一代计算机（1945-1954）\n",
    " * 用**绝缘导线** 将 **电子管和继电器** 互连起来\n",
    " * 单个cpu构成，采用程序计数器和累加器顺序完成**定点运算**\n",
    " * 采用**机器语言或汇编语言**\n",
    "     * **1946年**，Jhon Von Neuman, Arthut Burks 和 Herman Goldstine在 **普林斯顿** 研制出 **IAS计算机**\n",
    "     * **1950年**, **宾夕法尼亚大学莫尔学院** 制成 **ENIAC**\n",
    "     * **1953年**, **IBM** 制造了 **IBM701计算机**\n",
    "2. 第二代计算机(1955-1964)\n",
    " * 用**印刷电路** 将 **分立式晶体三极管、二极管和铁氧体的磁芯** 连起来\n",
    " * 变址寄存器、浮点运算、多路存储器和I/O处理机\n",
    " * 采用由编译程序的高级语言、子程序库、批处理监控程序\n",
    "     * 1956年 Univac LARC\n",
    "     * 20世纪60年代 CDC1604\n",
    "     * 1962 IBM7030\n",
    "3. 第三代计算机（1965-1974）\n",
    " * 小规模或中规模集成电路和多层印刷电路\n",
    " * 采用流水线、高速缓存和先行处理机\n",
    " * 多道程序设计和分时操作系统\n",
    "     * IBM/360-370系列\n",
    "     * CDC6600/7600系列\n",
    "     * Texas公司的ASC\n",
    "     * Digital Equitment公司的PDP-8系列\n",
    "4. 第四代计算机(1974-1991)\n",
    " * 大规模或超大规模集成电路和半导体存储器\n",
    " * 共享存储器，分布存储器，并行计算机\n",
    " * 多处理炒作系统，专用语言和编译器\n",
    "     * VAX9000\n",
    "     * CrayX-MP\n",
    "     * IBN/30390VF\n",
    "     * BBNTC-2000\n",
    "5. 第五代计算机（199-现在）\n",
    " * VLSI工艺下的高密度、高速度处理机和存储芯片\n",
    " * 进行大规模的并行处理，采用可拓展的和容许时延的系统结构\n",
    "     * Fujitsu的VPP550\n",
    "     * Cray Research的MPP\n",
    "     * Thinking Machines公司的CM-5\n",
    "     * Intel超级计算机系统Paragon\n",
    "     * SGI的Origin 2000\n",
    "     * Su公司的1000服务器\n",
    "     \n",
    "## 计算机换代的标志\n",
    "1. 计算机的器件（最突出的标志）\n",
    "    器件的更新，其速度、功能、可靠性的不断提高和成本的不断降低，是计算机发展的物质基础\n",
    "2. 系统结构的特点"
   ]
  },
  {
   "cell_type": "markdown",
   "metadata": {},
   "source": []
  }
 ],
 "metadata": {
  "kernelspec": {
   "display_name": "Python 3",
   "language": "python",
   "name": "python3"
  },
  "language_info": {
   "codemirror_mode": {
    "name": "ipython",
    "version": 3
   },
   "file_extension": ".py",
   "mimetype": "text/x-python",
   "name": "python",
   "nbconvert_exporter": "python",
   "pygments_lexer": "ipython3",
   "version": "3.8.5"
  }
 },
 "nbformat": 4,
 "nbformat_minor": 4
}
