{
 "cells": [
  {
   "cell_type": "markdown",
   "metadata": {},
   "source": [
    "### 设计规则\n",
    "*定义设计规则的目的是为了能很容易地把电路概念转换为硅上的几何图形（版图）*\n",
    "\n",
    "*设计规则是制造**掩模**的指南*\n",
    "\n",
    "*设计工程师和工艺工程师之间的接口*"
   ]
  },
  {
   "cell_type": "markdown",
   "metadata": {},
   "source": [
    "### 工艺层次\n",
    "* 概念：将当前在CMOS中使用的难以理解的一组掩模转化成一组简单的概念化的版图层\n",
    "* 基本层次：\n",
    "    * 衬底和/或阱\n",
    "    * 扩散层（$n^+和p^+$）：定义形成晶体管的区域\n",
    "    * 多晶硅层：定义形成晶体管的栅极\n",
    "    * 多个金属互连层\n",
    "    * 接触孔和通孔：提供层与层之间的连接"
   ]
  },
  {
   "cell_type": "markdown",
   "metadata": {},
   "source": [
    "### 层内规则\n",
    "* 定义每一层中图形的最小尺寸，以及同一层图形间的最小间距\n",
    "### 层间规则\n",
    "* 晶体管规则\n",
    "    * 晶体管最小长度是多晶硅最小长度，晶体管最小宽度是扩散最小宽度\n",
    "* 接触与通孔规则\n",
    "* 阱和衬底接触规则"
   ]
  }
 ],
 "metadata": {
  "kernelspec": {
   "display_name": "Python 3",
   "language": "python",
   "name": "python3"
  },
  "language_info": {
   "codemirror_mode": {
    "name": "ipython",
    "version": 3
   },
   "file_extension": ".py",
   "mimetype": "text/x-python",
   "name": "python",
   "nbconvert_exporter": "python",
   "pygments_lexer": "ipython3",
   "version": "3.8.5"
  }
 },
 "nbformat": 4,
 "nbformat_minor": 4
}
