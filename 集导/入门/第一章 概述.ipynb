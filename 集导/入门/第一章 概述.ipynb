{
 "cells": [
  {
   "cell_type": "markdown",
   "metadata": {},
   "source": [
    "## 集成电路\n",
    "* 定义：通过一系列特定的加工工艺，将二极管，三极管，场效应管等**有源器件**和电阻、电容、电感等**无源器件**，按照一定的电路互连，“集成”在一块半导体晶片上，封装在一个外壳内，执行特定的电路或系统功能的一种器件"
   ]
  },
  {
   "cell_type": "markdown",
   "metadata": {},
   "source": [
    "* 发展史上的里程碑\n",
    "    - 1963年，CMOS技术诞生\n",
    "    - 1967年，非挥发存储器诞生\n",
    "    - 1968年，单晶体管DRAM诞生\n",
    "    - 1971年，intel公司微处理器诞生"
   ]
  },
  {
   "cell_type": "markdown",
   "metadata": {},
   "source": [
    "## 集成度\n",
    "* 特征尺寸：芯片上能制作的最小线宽，栅长\n",
    "<table border = \"2\" align = \"center\">\n",
    "      <tr align = \"center\">\n",
    "          <td> </td>\n",
    "          <td> SSI </td>\n",
    "          <td> MSI </td>\n",
    "          <td> LSI </td>\n",
    "          <td> VLSI </td>\n",
    "          <td> ULSI </td>\n",
    "          <td> GSI </td>\n",
    "      <\\tr>\n",
    "      <tr align = \"center\">\n",
    "          <td> 元件数</td>\n",
    "          <td> &lt 10<sup>2</sup> </td>\n",
    "          <td> 10<sup>2</sup> ~ 10<sup>3</sup><\\td>\n",
    "          <td> 10<sup>3</sup> ~ 10<sup>5</sup><\\td>\n",
    "          <td> 10<sup>5</sup> ~ 10<sup>7</sup><\\td>\n",
    "          <td> 10<sup>7</sup> ~ 10<sup>9</sup><\\td>\n",
    "          <td> &gt 10<sup>9<sup><\\td>\n",
    "      <tr align = \"center\">\n",
    "          <td> 门数</td>\n",
    "          <td> &lt 10 </td>\n",
    "          <td> 10 ~ 10<sup>2</sup><\\td>\n",
    "          <td> 10<sup>2</sup> ~ 10<sup>4</sup><\\td>\n",
    "          <td> 10<sup>4</sup> ~ 10<sup>6</sup><\\td>\n",
    "          <td> 10<sup>6</sup> ~ 10<sup>8</sup><\\td>\n",
    "      <td> &gt 10<sup>8<sup><\\td>\n",
    "<\\table>\n",
    "    "
   ]
  },
  {
   "cell_type": "markdown",
   "metadata": {},
   "source": [
    "## 摩尔定律\n",
    "* 集成度：大约每三年翻两番（4倍）；特征尺寸：每3年缩小1倍；性能：每年翻倍；功耗：降低一倍\n",
    "* 作用：鞭策半导体产业界不断进步，并努力实现它。是一种产业自我激励的机制。"
   ]
  },
  {
   "cell_type": "markdown",
   "metadata": {},
   "source": [
    "* 发展趋势\n",
    "    * 特征尺寸：微米-> 亚微米 -> 深亚微米 -> 超深亚微米 -> 纳米；主流工艺是45nm，32nm，22nm；14nm开始规模化生产\n",
    "    * 电路规模：SSI -> SOC\n",
    "    * 晶圆尺寸：12英寸（主流）->18英寸\n",
    "    * 规模不断提高，最先进的160平方微米，内含14亿各晶体管\n",
    "    * 速度不断提高，主时钟4GHz的CPU；>10Gbit/s的高速电路，>6GHz的射频电路\n",
    "    * 复杂度不断增加，SoC称为开发目标\n",
    "    * 设计能力落后于工艺制造能力\n",
    "    * 电路设计、工艺制造、封装的分立运行为发展无生产线和无芯片集成电路提供了条件，为微电子领域发展知识经济提供了条件\n",
    "    \n",
    "    "
   ]
  },
  {
   "cell_type": "markdown",
   "metadata": {},
   "source": [
    "* 无生产线集成电路设计技术\n",
    "    - IDM:设计、制造和封装都集中在半导体厂家内进行的一体化制造的集成电路实现模式\n",
    "    - 无生产线模式：电路设计、工艺制造和封装分立运行"
   ]
  },
  {
   "cell_type": "markdown",
   "metadata": {},
   "source": [
    "* 多项目晶圆技术MPW\n",
    "    - 把几到几十种工艺上兼容的芯片拼装到一个宏芯片上，然后以步进的方式排列到一个至多个晶圆上"
   ]
  },
  {
   "cell_type": "markdown",
   "metadata": {},
   "source": [
    "## 分类\n",
    "* 按器件结构类型分类\n",
    "    - 双极（BJT）集成电路\n",
    "        - NPN型双极集成电路\n",
    "        - PNP型双极集成电路\n",
    "        - 优点：速度高，驱动能力强\n",
    "        - 缺点：功耗较大、集成度较低\n",
    "    - 金属-氧化物-半导体（MOS）集成电路\n",
    "        - NMOS\n",
    "        - PMOS\n",
    "        - CMOS\n",
    "        - 特点：功耗低、抗干扰能力强、集成度高、随着特征尺寸的缩小、速度也可以很高\n",
    "    - 双极-MOS（BiMOS）集成电路\n",
    "        - 同时包括双极和MOS晶体管\n",
    "        - 综合了两者的优点，但制作工艺复杂\n",
    "* 按集成度分类\n",
    "    - 小规模集成电路 SSI\n",
    "    - 中规模集成电路 MSI\n",
    "    - 大规模集成电路 LSI\n",
    "    - 超大规模集成电路 VLSI\n",
    "    - 特大规模集成电路 ULSI\n",
    "    - 巨大规模集成电路 GSI\n",
    "    \n",
    "    <table>\n",
    "        <tr><th rowspan = \"2\" align = \"center\">类别</th>\n",
    "            <th colspan = \"2\" align = \"center\">数字集成电路</th>\n",
    "            <th rowspan = \"2\" align = \"center\">模拟集成电路</th></tr>\n",
    "        <tr><th align = \"center\">MOS IC</th><th align = \"center\">双极  IC</th></tr>\n",
    "        <tr><th>SSI</th>\n",
    "            <th> &lt 10<sup>2</sup></th>\n",
    "            <th> &lt 100</th>\n",
    "            <th> &lt 30</th>\n",
    "        </tr>\n",
    "        <tr><th>MSI</th>\n",
    "            <th> 10<sup>2</sup> ~ 10<sup>3</sup></th>\n",
    "            <th> 100 ~ 500</th>\n",
    "            <th> 20 ~ 100</th>\n",
    "        </tr>\n",
    "        <tr><th>LSI</th>\n",
    "            <th> 10<sup>3</sup> ~ 10<sup>5</sup></th>\n",
    "            <th> 500 ~ 2000</th>\n",
    "            <th> 100 ~ 300</th>\n",
    "        </tr>   \n",
    "        <tr><th>VLSI</th>\n",
    "            <th> 10<sup>5</sup> ~ 10<sup>7</sup></th>\n",
    "            <th> &gt 2000</th>\n",
    "            <th> &gt 300</th>\n",
    "        </tr>\n",
    "        <tr><th>ULSI</th>\n",
    "            <th> 10<sup>7</sup> ~ 10<sup>9</sup></th>\n",
    "        </tr>\n",
    "        <tr><th>GSI</th>\n",
    "            <th> &gt 10<sup>9</sup></th>\n",
    "        </tr>\n",
    "    <\\table>"
   ]
  },
  {
   "cell_type": "markdown",
   "metadata": {},
   "source": [
    "* 按使用的基片材料分类\n",
    "    - 单片集成电路\n",
    "    - 混合集成电路\n",
    "        - 厚膜集成电路\n",
    "        - 薄膜集成电路\n",
    "* 按电路功能分类\n",
    "    - 数字集成电路\n",
    "        - 组合逻辑电路\n",
    "        - 时序逻辑电路\n",
    "    - 模拟集成电路\n",
    "        - 线性电路\n",
    "        - 非线性电路\n",
    "    - 数模混合集成电路\n",
    "* 按应用领域分类\n",
    "    - 标准通用集成电路\n",
    "    - 专用集成电路"
   ]
  },
  {
   "cell_type": "markdown",
   "metadata": {},
   "source": [
    "## 集成电路设计步骤\n",
    "*  功能要求 => 行为设计(VHDL/Verilog) => 行为模拟 => 综合、优化(网表) => 时序模拟 => 布局布线(版图) => 后模拟 => 流片、封装、测试 \n",
    "* 自底向上的设计方法\n",
    "    - 特点\n",
    "        - 其路线是整个IC发展的基本路线\n",
    "        - 大部分由手工完成，需要设计者的智慧和经验\n",
    "        - 集成度高\n",
    "        - 对应于逆向设计\n",
    "    - 应用\n",
    "        - IC制造厂家\n",
    "        - 模拟IC\n",
    "        - 较简单的数字IC\n",
    "* 自顶向上的设计方法\n",
    "    - 特点\n",
    "        - 需要系统知识\n",
    "        - 多依赖于成熟的功能模块\n",
    "        - 电子自动化（EDA）=> 一般采用的方法\n",
    "        - 对应于正向设计\n",
    "    - 应用\n",
    "        - 系统厂家\n",
    "        - 复杂的数字IC"
   ]
  },
  {
   "cell_type": "markdown",
   "metadata": {},
   "source": [
    "## EDA技术的发展\n",
    "* 计算机辅助设计CAD => 计算机辅助工程设计（CAE） => 电子设计自动化（EDA）"
   ]
  }
 ],
 "metadata": {
  "kernelspec": {
   "display_name": "Python 3",
   "language": "python",
   "name": "python3"
  },
  "language_info": {
   "codemirror_mode": {
    "name": "ipython",
    "version": 3
   },
   "file_extension": ".py",
   "mimetype": "text/x-python",
   "name": "python",
   "nbconvert_exporter": "python",
   "pygments_lexer": "ipython3",
   "version": "3.8.5"
  }
 },
 "nbformat": 4,
 "nbformat_minor": 4
}
