{
 "cells": [
  {
   "cell_type": "markdown",
   "metadata": {},
   "source": [
    "### 性能\n",
    "* 主要标准：响应时间\n",
    "    *衡量机器性能的唯一固定而且可靠的方法就是真正执行程序的时间\n",
    "* 代替标准：\n",
    "    1. MIPS(million instructions per second)\n",
    "        * 定义：$ MIPS = \\frac{指令条数}{执行时间 \\times 10^6} = \\frac{时钟频率}{CPI \\times 10^6} $\n",
    "        * 程序的运行时间： $ Te = \\frac{指令条数}{MIPS \\times 10^6} $\n",
    "        * 缺陷：\n",
    "            * MIPS依赖于指令集，用MIPS来比较指令集不同的机器的性能好坏是不准确的。\n",
    "            * 在同一台机器上，MIPS因程序不同而变化，有时是很大的\n",
    "            * MIPS可能于性能相反\n",
    "    2. MFLOPS(million floating point operations per second)\n",
    "        * $ MFLOPS = \\frac{程序中的浮点操作次数}{执行时间 \\times 10^6} $\n",
    "        * MFLPOS 基于操作而非指令，可以用来比较两种不同机器\n",
    "        * 缺点：\n",
    "            * MFLPOS 取决于机器和程序，所以MFLPOS只能用来衡量机器浮点操作的性能，不能体现机器的整体性能\n",
    "            * 在浮点运算集的不同的机器上进行比较是不可靠。\n",
    "            * 依赖于操作类型，单个程序的MFLPOS值并不能反映机器的性能\n",
    "    3. 用基准测试程序来测试评价机器的性能\n",
    "        * 基准测试程序有：\n",
    "            1. 实际的应用程序\n",
    "            2. 核心程序（实际应用程序的关键循环程序段）\n",
    "            3. 玩具基准测试程序 （10~100行可预知运行结果的小程序）\n",
    "            4. 综合基准测试程序 （类型核心程序，但考虑了各种操作和各种程序的比例）\n",
    "* 性能的比较\n",
    "    1. 一致的衡量标准：\n",
    "        * 总执行时间\n",
    "        * 平均执行时间 $ A_m = \\frac{1}{n} \\sum ^n_{i=1} T_i$\n",
    "        * 加权平均时间 $ A_m = \\sum^n_{i=1} W_i \\times T_i\\ \\ \\ \\  W_i为第i程序在任务中的比重$\n",
    "    2. 将一个任务的执行之间标准化为一个参考机器的执行时间\n",
    "        * 平均标准化时间： 参考机器的执行时间 $ G = \\sqrt[n]{\\sum^n_{i=1}ETR_i}$\n",
    "        * ETR:程序标准化为参考机器后的时间\n",
    "        * 具体怎么标准化.......未知"
   ]
  },
  {
   "cell_type": "markdown",
   "metadata": {},
   "source": [
    "## 成本\n",
    "* 成本指标\n",
    "    1.成本：生产成本，包括开发工具的折旧费用\n",
    "    2.成本的组成：\n",
    "        * **一次性开发成本**（软件成本 + 一部分的硬件成本）\n",
    "        * **每个部件的生产成本**（硬件成本）\n",
    "*使用大量器件但效率很低的系统结构是无法于设计简单而效率很高的系统结构相竞争的"
   ]
  }
 ],
 "metadata": {
  "kernelspec": {
   "display_name": "Python 3",
   "language": "python",
   "name": "python3"
  },
  "language_info": {
   "codemirror_mode": {
    "name": "ipython",
    "version": 3
   },
   "file_extension": ".py",
   "mimetype": "text/x-python",
   "name": "python",
   "nbconvert_exporter": "python",
   "pygments_lexer": "ipython3",
   "version": "3.8.5"
  }
 },
 "nbformat": 4,
 "nbformat_minor": 4
}
