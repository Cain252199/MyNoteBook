{
 "cells": [
  {
   "cell_type": "markdown",
   "metadata": {},
   "source": [
    "## 计算机系统设计的定量原理\n",
    "1. * **加快经常性事件的速度**\n",
    "2. * **Amdahl定律**\n",
    "    * 解决问题：如何确定经常性事件以及如何加快处理它\n",
    "    * 内容：系统中某一部分由于采用了某种更快的执行方式后整个系统性能的提高与这种执行方式的使用频率或占总执行时间的比例有关\n",
    "\\begin{align*} \n",
    "    加速比 &= （采用改进措施后 的性能）/（采用改进措施前 的性能）\\\\\n",
    "        &= （没有采用改进措施后前执行某任务 的时间） / （采用改进措施后执行某任务 的时间）\\\\\n",
    "    S_n &= 加速度比\\\\\n",
    "    T_n &= 改进后 整个任务的执行时间\\\\\n",
    "    T_0 &= 改进前 整个任务的执行时间\\\\\n",
    "    Fe &= (可改进部分占用的时间) /（改进前整个任务的执行时间） > 1\\\\\n",
    "    Se &= (改进前 改进部分的执行时间) /（改进后 改进部分的执行时间）< 1\\\\\n",
    "    T_n &= T_0(1 - Fe + \\frac{Fe}{Se})\\\\\n",
    "    S_n &= \\frac{T_0}{T_n} = \\frac{1}{(1-Fe) + Fe/Se}    \n",
    "\\end{align*}\n",
    "\n",
    "3. * **CPU性能公式**\n",
    "    * **CPU的性能取决于：时间频率，每条指令花费的时钟周期数 CPI，指令条数 IC**\n",
    "        * 时间频率 取决于 硬件技术和组织\n",
    "        * CPI 取决于 系统结构组织和指令集\n",
    "        * 指令数目 取决于 系统结构的指令集和编译技术\n",
    "\\begin{align*}\n",
    "CPU时间 &= CPU时钟周期数/频率\\\\\n",
    "&= CPU时钟周期数 \\times 时钟周期长\\\\\n",
    "&= \\sum_{i=1}^n (CPI_i \\times I_i) \\times 时钟周期长度\\\\\n",
    "\\\\\n",
    "CPI &= \\frac{ \\sum_{i=1}^n (CPI_i \\times I_i)}{IC}\\\\\n",
    "&= \\sum_{i=1}^n (CPI_i \\times \\frac{I_i}{IC})\\\\\n",
    "\\end{align*}\n",
    "$$I_i 表示i指令在程序中执行的次数；CPI_i 表示i指令所需要的平均时钟周期数；\\frac{I_i}{IC}表示i指令在程序中所占比例$$\n",
    "\n",
    "4. * **访问局部性原理**\n",
    "    * 局部性实质：根据程序的最近情况，可以较精确地预测出最近的将来要用到哪些指令和数据\n",
    "    * 时间上的局部性：最近访问过的代码是不久将被访问的代码\n",
    "    * 空间上的局部性：那些地址上相邻近的代码可能被一起访问"
   ]
  },
  {
   "cell_type": "markdown",
   "metadata": {},
   "source": [
    "## 计算机系统设计者的主要任务\n",
    "1. **确定用户对计算机系统的功能、价格和性能的要求**\n",
    "    * 功能的要求根据市场需要而定，应用软件对功能的确定起支配作用\n",
    "    * 具体功能包括：应用领域，软件兼容层次，操作系统的需求，标准\n",
    "2. **软硬件的平衡**\n",
    "    * 软件实现的优点：设计容易，改进简单\n",
    "    * 硬件实现的优点：速度快，有较好的性能\n",
    "3. **设计出符合今后发展方向的系统结构**\n",
    "    * 发展趋势之一：程序所需存储容量平均每年增长1.5倍到2倍，相应地要求地址每年能增长0.5位到1位\n",
    "\n",
    "## 计算机系统设计的主要方法\n",
    "1. **“由下而上”设计 bottom-up**\n",
    "2. **“由上而下”设计 top-down**\n",
    "3. **“由中间开始”设计 middle-out**"
   ]
  }
 ],
 "metadata": {
  "kernelspec": {
   "display_name": "Python 3",
   "language": "python",
   "name": "python3"
  },
  "language_info": {
   "codemirror_mode": {
    "name": "ipython",
    "version": 3
   },
   "file_extension": ".py",
   "mimetype": "text/x-python",
   "name": "python",
   "nbconvert_exporter": "python",
   "pygments_lexer": "ipython3",
   "version": "3.8.5"
  },
  "latex_envs": {
   "LaTeX_envs_menu_present": true,
   "autoclose": false,
   "autocomplete": true,
   "bibliofile": "biblio.bib",
   "cite_by": "apalike",
   "current_citInitial": 1,
   "eqLabelWithNumbers": true,
   "eqNumInitial": 1,
   "hotkeys": {
    "equation": "Ctrl-E",
    "itemize": "Ctrl-I"
   },
   "labels_anchors": true,
   "latex_user_defs": false,
   "report_style_numbering": false,
   "user_envs_cfg": false
  }
 },
 "nbformat": 4,
 "nbformat_minor": 4
}
