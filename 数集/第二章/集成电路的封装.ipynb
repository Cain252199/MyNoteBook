{
 "cells": [
  {
   "cell_type": "markdown",
   "metadata": {},
   "source": [
    "### 封装\n",
    "* 好的封装特性：\n",
    "    * 电学：低寄生\n",
    "    * 机器：可靠性，坚固性\n",
    "    * 热学：有效散热\n",
    "    * 经济：低成本\n",
    "* 封装技术：\n",
    "    * 导向压焊（WB）\n",
    "    * 带式自动焊接(TAB)\n",
    "    * 倒装芯片焊接（FCM）\n",
    "* 封装类型\n",
    "    * 双列直插（DIP）\n",
    "    * 针栅阵列（PGA）\n",
    "    * 小外廓IC（SOIC）\n",
    "    * 方形扁平封装（OFP）\n",
    "    * 引线塑封芯片载体（PLCC）\n",
    "    * 无引线载体（LCC）"
   ]
  },
  {
   "cell_type": "code",
   "execution_count": null,
   "metadata": {},
   "outputs": [],
   "source": []
  }
 ],
 "metadata": {
  "kernelspec": {
   "display_name": "Python 3",
   "language": "python",
   "name": "python3"
  },
  "language_info": {
   "codemirror_mode": {
    "name": "ipython",
    "version": 3
   },
   "file_extension": ".py",
   "mimetype": "text/x-python",
   "name": "python",
   "nbconvert_exporter": "python",
   "pygments_lexer": "ipython3",
   "version": "3.8.5"
  }
 },
 "nbformat": 4,
 "nbformat_minor": 4
}
