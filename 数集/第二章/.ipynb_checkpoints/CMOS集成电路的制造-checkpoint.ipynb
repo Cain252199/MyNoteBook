{
 "cells": [
  {
   "cell_type": "markdown",
   "metadata": {},
   "source": [
    "## CMOS集成电路的制造\n",
    "### 制造工艺\n",
    "* P衬N阱工艺  p sub - n well\n",
    "\n",
    "<img src = \"./图片/p sub - n well.png\" width = 60%>\n",
    "* P衬双阱工艺 \n",
    "\n",
    "<img src = \"./图片/p sub - twin well.png\" width = 80%>"
   ]
  },
  {
   "cell_type": "markdown",
   "metadata": {},
   "source": [
    "### 硅圆片\n",
    "* 制造工艺的基础材料：单晶轻掺杂圆片，P-型衬底掺杂浓度约为$2 \\times 10^{21} 杂质/m^3$\n",
    "* 圆片由单晶锭切割得到，圆片厚度最多为**1mm**，典型直径**4 ~ 12英寸（10 ~ 30cm)**"
   ]
  },
  {
   "cell_type": "markdown",
   "metadata": {},
   "source": [
    "### 光刻\n",
    "* 步骤：氧化层，涂光刻胶，光刻机曝光，光刻胶的显影和烘干，酸刻蚀，旋转、清洗和干燥，各种工艺加工步骤，去除光刻胶（“沙洗”）\n",
    "\n",
    "<img src = \"./图片/光刻.png\" width = 80%>"
   ]
  },
  {
   "cell_type": "markdown",
   "metadata": {},
   "source": [
    "### 重要的工艺步骤\n",
    "* 扩散和离子注入\n",
    "    * 用于制造源漏区，阱和衬底接触，多晶掺杂，器件的阈值调节\n",
    "    * 广泛适用的是：离子注入（原因可以精确控制深度和剂量）\n",
    "* 淀积\n",
    "    * 用于缓冲层，绝缘层，导电层\n",
    "* 刻蚀\n",
    "    * 形成连线和通孔\n",
    "    * 干法刻蚀和等离子刻蚀\n",
    "* 平面化"
   ]
  },
  {
   "cell_type": "markdown",
   "metadata": {},
   "source": [
    "### 工艺流程举例 (P32)"
   ]
  },
  {
   "cell_type": "code",
   "execution_count": null,
   "metadata": {},
   "outputs": [],
   "source": []
  }
 ],
 "metadata": {
  "kernelspec": {
   "display_name": "Python 3",
   "language": "python",
   "name": "python3"
  },
  "language_info": {
   "codemirror_mode": {
    "name": "ipython",
    "version": 3
   },
   "file_extension": ".py",
   "mimetype": "text/x-python",
   "name": "python",
   "nbconvert_exporter": "python",
   "pygments_lexer": "ipython3",
   "version": "3.8.5"
  }
 },
 "nbformat": 4,
 "nbformat_minor": 4
}
